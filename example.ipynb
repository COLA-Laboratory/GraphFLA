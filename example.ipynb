{
 "cells": [
  {
   "cell_type": "code",
   "execution_count": 1,
   "id": "1d62e252",
   "metadata": {},
   "outputs": [],
   "source": [
    "import pandas as pd\n",
    "from graphfla.landscape import ProteinLandscape"
   ]
  },
  {
   "cell_type": "code",
   "execution_count": 2,
   "id": "f7c26638",
   "metadata": {},
   "outputs": [
    {
     "data": {
      "text/html": [
       "<div>\n",
       "<style scoped>\n",
       "    .dataframe tbody tr th:only-of-type {\n",
       "        vertical-align: middle;\n",
       "    }\n",
       "\n",
       "    .dataframe tbody tr th {\n",
       "        vertical-align: top;\n",
       "    }\n",
       "\n",
       "    .dataframe thead th {\n",
       "        text-align: right;\n",
       "    }\n",
       "</style>\n",
       "<table border=\"1\" class=\"dataframe\">\n",
       "  <thead>\n",
       "    <tr style=\"text-align: right;\">\n",
       "      <th></th>\n",
       "      <th>sequences</th>\n",
       "      <th>pos1</th>\n",
       "      <th>pos2</th>\n",
       "      <th>pos3</th>\n",
       "      <th>fitness</th>\n",
       "    </tr>\n",
       "  </thead>\n",
       "  <tbody>\n",
       "    <tr>\n",
       "      <th>0</th>\n",
       "      <td>AAA</td>\n",
       "      <td>A</td>\n",
       "      <td>A</td>\n",
       "      <td>A</td>\n",
       "      <td>0.123568</td>\n",
       "    </tr>\n",
       "    <tr>\n",
       "      <th>1</th>\n",
       "      <td>AAC</td>\n",
       "      <td>A</td>\n",
       "      <td>A</td>\n",
       "      <td>C</td>\n",
       "      <td>0.130252</td>\n",
       "    </tr>\n",
       "    <tr>\n",
       "      <th>2</th>\n",
       "      <td>AAD</td>\n",
       "      <td>A</td>\n",
       "      <td>A</td>\n",
       "      <td>D</td>\n",
       "      <td>0.090042</td>\n",
       "    </tr>\n",
       "    <tr>\n",
       "      <th>3</th>\n",
       "      <td>AAE</td>\n",
       "      <td>A</td>\n",
       "      <td>A</td>\n",
       "      <td>E</td>\n",
       "      <td>0.010581</td>\n",
       "    </tr>\n",
       "    <tr>\n",
       "      <th>4</th>\n",
       "      <td>AAF</td>\n",
       "      <td>A</td>\n",
       "      <td>A</td>\n",
       "      <td>F</td>\n",
       "      <td>0.384576</td>\n",
       "    </tr>\n",
       "    <tr>\n",
       "      <th>...</th>\n",
       "      <td>...</td>\n",
       "      <td>...</td>\n",
       "      <td>...</td>\n",
       "      <td>...</td>\n",
       "      <td>...</td>\n",
       "    </tr>\n",
       "    <tr>\n",
       "      <th>7779</th>\n",
       "      <td>YYS</td>\n",
       "      <td>Y</td>\n",
       "      <td>Y</td>\n",
       "      <td>S</td>\n",
       "      <td>0.035373</td>\n",
       "    </tr>\n",
       "    <tr>\n",
       "      <th>7780</th>\n",
       "      <td>YYT</td>\n",
       "      <td>Y</td>\n",
       "      <td>Y</td>\n",
       "      <td>T</td>\n",
       "      <td>0.011942</td>\n",
       "    </tr>\n",
       "    <tr>\n",
       "      <th>7781</th>\n",
       "      <td>YYV</td>\n",
       "      <td>Y</td>\n",
       "      <td>Y</td>\n",
       "      <td>V</td>\n",
       "      <td>0.023168</td>\n",
       "    </tr>\n",
       "    <tr>\n",
       "      <th>7782</th>\n",
       "      <td>YYW</td>\n",
       "      <td>Y</td>\n",
       "      <td>Y</td>\n",
       "      <td>W</td>\n",
       "      <td>0.060332</td>\n",
       "    </tr>\n",
       "    <tr>\n",
       "      <th>7783</th>\n",
       "      <td>YYY</td>\n",
       "      <td>Y</td>\n",
       "      <td>Y</td>\n",
       "      <td>Y</td>\n",
       "      <td>0.038300</td>\n",
       "    </tr>\n",
       "  </tbody>\n",
       "</table>\n",
       "<p>7784 rows × 5 columns</p>\n",
       "</div>"
      ],
      "text/plain": [
       "     sequences pos1 pos2 pos3   fitness\n",
       "0          AAA    A    A    A  0.123568\n",
       "1          AAC    A    A    C  0.130252\n",
       "2          AAD    A    A    D  0.090042\n",
       "3          AAE    A    A    E  0.010581\n",
       "4          AAF    A    A    F  0.384576\n",
       "...        ...  ...  ...  ...       ...\n",
       "7779       YYS    Y    Y    S  0.035373\n",
       "7780       YYT    Y    Y    T  0.011942\n",
       "7781       YYV    Y    Y    V  0.023168\n",
       "7782       YYW    Y    Y    W  0.060332\n",
       "7783       YYY    Y    Y    Y  0.038300\n",
       "\n",
       "[7784 rows x 5 columns]"
      ]
     },
     "execution_count": 2,
     "metadata": {},
     "output_type": "execute_result"
    }
   ],
   "source": [
    "data = pd.read_csv(\"data/Johnston2024_TrpB3I.csv\")\n",
    "data"
   ]
  },
  {
   "cell_type": "code",
   "execution_count": 3,
   "id": "f9b4bda6",
   "metadata": {},
   "outputs": [],
   "source": [
    "X = data[\"sequences\"]\n",
    "f = data[\"fitness\"]"
   ]
  },
  {
   "cell_type": "code",
   "execution_count": 4,
   "id": "dcf4ca02",
   "metadata": {},
   "outputs": [
    {
     "name": "stdout",
     "output_type": "stream",
     "text": [
      "Building Landscape from data...\n",
      "Preprocessing sequence input for Sequence (AY)...\n",
      "Detected sequence string format input.\n",
      "Sequence input preprocessing complete.\n",
      " - Handling missing values and duplicates...\n",
      " - Handling missing values...\n",
      " - Handling duplicate configurations...\n",
      "   - No duplicate configurations found.\n",
      "Preparing data for landscape construction (encoding variables)...\n",
      "Constructing landscape graph...\n"
     ]
    },
    {
     "name": "stderr",
     "output_type": "stream",
     "text": [
      "# Constructing neighborhoods: 100%|██████████| 7784/7784 [00:00<00:00, 49729.43it/s]\n"
     ]
    },
    {
     "name": "stdout",
     "output_type": "stream",
     "text": [
      " - Identified 216498 potential improving connections.\n",
      " - Constructing graph object...\n",
      " - Adding node attributes (fitness, etc.)...\n",
      "Calculating landscape properties...\n",
      " - Adding network metrics (degrees)...\n",
      " - Calculating network metrics (degrees)...\n",
      " - Determining local optima...\n",
      "   - Found 16 local optima.\n",
      " - Determining global optimum...\n",
      "   - Global optimum found at index 7697 with fitness 1.0000.\n",
      " - Calculating basins of attraction via hill climbing...\n"
     ]
    },
    {
     "name": "stderr",
     "output_type": "stream",
     "text": [
      "   - Hill climbing batches: 100%|██████████| 1/1 [00:00<00:00,  4.43it/s]\n"
     ]
    },
    {
     "name": "stdout",
     "output_type": "stream",
     "text": [
      "   - Basins calculated for 16 local optima.\n",
      " - Determining accessible paths (ancestors)...\n"
     ]
    },
    {
     "name": "stderr",
     "output_type": "stream",
     "text": [
      "   - Finding ancestors: 100%|██████████| 16/16 [00:00<00:00, 2001.93it/s]\n"
     ]
    },
    {
     "name": "stdout",
     "output_type": "stream",
     "text": [
      "   - Accessible paths calculated for 16 local optima.\n",
      " - Calculating distances to global optimum using mixed_distance...\n",
      "   - Distances to GO calculated and added as node attribute 'dist_go'.\n",
      "Calculating neighbor fitness metrics...\n",
      " - Added 'mean_neighbor_fit' attribute for 7784 nodes\n",
      " - Added 'delta_mean_neighbor_fit' attribute for 216498 edges\n",
      "Landscape built successfully.\n",
      "\n",
      "--- Landscape Summary ---\n",
      "Class: ProteinLandscape\n",
      "Built: True\n",
      "Variables (n_vars): 3\n",
      "Configurations (n_configs): 7784\n",
      "Connections (n_edges): 216498\n",
      "Local Optima (n_lo): 16\n",
      "Global Optimum Index: 7697\n",
      "Maximize Fitness: True\n",
      "Basins Calculated (Hill Climb): True\n",
      "Accessible Paths Calculated: True\n",
      "LON Calculated: False\n",
      "---\n"
     ]
    }
   ],
   "source": [
    "landscape = ProteinLandscape(maximize=True)\n",
    "landscape.build_from_data(X, f, verbose=True)"
   ]
  },
  {
   "cell_type": "code",
   "execution_count": 5,
   "id": "b88a0876",
   "metadata": {},
   "outputs": [
    {
     "name": "stdout",
     "output_type": "stream",
     "text": [
      "DR: 0.3730\n",
      "lo fraction: 0.0021\n",
      "r/s ratio: 2.0357\n",
      "FDC: -0.2403\n"
     ]
    }
   ],
   "source": [
    "from graphfla.analysis import (\n",
    "    lo_ratio, \n",
    "    diminishing_returns_index, \n",
    "    r_s_ratio,\n",
    "    fitness_distance_corr\n",
    ")\n",
    "\n",
    "dr = diminishing_returns_index(landscape)\n",
    "lo_frac = lo_ratio(landscape)\n",
    "r_s = r_s_ratio(landscape)\n",
    "fdc = fitness_distance_corr(landscape)\n",
    "\n",
    "print(f\"DR: {dr:.4f}\")\n",
    "print(f\"lo fraction: {lo_frac:.4f}\")\n",
    "print(f\"r/s ratio: {r_s:.4f}\")\n",
    "print(f\"FDC: {fdc:.4f}\")"
   ]
  },
  {
   "cell_type": "code",
   "execution_count": null,
   "id": "6c679130",
   "metadata": {},
   "outputs": [],
   "source": []
  }
 ],
 "metadata": {
  "kernelspec": {
   "display_name": "geo_env",
   "language": "python",
   "name": "python3"
  },
  "language_info": {
   "codemirror_mode": {
    "name": "ipython",
    "version": 3
   },
   "file_extension": ".py",
   "mimetype": "text/x-python",
   "name": "python",
   "nbconvert_exporter": "python",
   "pygments_lexer": "ipython3",
   "version": "3.10.5"
  }
 },
 "nbformat": 4,
 "nbformat_minor": 5
}
